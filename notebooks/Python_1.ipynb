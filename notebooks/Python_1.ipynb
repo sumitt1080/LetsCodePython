{
  "nbformat": 4,
  "nbformat_minor": 0,
  "metadata": {
    "colab": {
      "name": "Python 1.ipynb",
      "provenance": [],
      "collapsed_sections": [],
      "authorship_tag": "ABX9TyN69naCISdqkxV5YsodOo/k",
      "include_colab_link": true
    },
    "kernelspec": {
      "name": "python3",
      "display_name": "Python 3"
    }
  },
  "cells": [
    {
      "cell_type": "markdown",
      "metadata": {
        "id": "view-in-github",
        "colab_type": "text"
      },
      "source": [
        "<a href=\"https://colab.research.google.com/github/kudoabhijeet/LetsCodePython/blob/master/Python_1.ipynb\" target=\"_parent\"><img src=\"https://colab.research.google.com/assets/colab-badge.svg\" alt=\"Open In Colab\"/></a>"
      ]
    },
    {
      "cell_type": "markdown",
      "metadata": {
        "id": "IpEigOVdxkCq",
        "colab_type": "text"
      },
      "source": [
        "# Welcome to Getting Started with Python\n",
        "\n",
        "---\n",
        "\n",
        "\n",
        "## Contents covered in this notebook\n",
        "\n",
        "\n",
        "1.   Intro to Python\n",
        "2.   Python versions\n",
        "3.   Our first Python Code\n",
        "4.   What can Python do? \n",
        "\n",
        "## Getting Started \n",
        "1. Variables and Arithemtic\n",
        "2. Control Flow \n",
        "3. Operators\n",
        "4. Functions\n",
        "\n",
        "\n",
        "## Resources \n",
        "<!-- To be added -->\n",
        "\n"
      ]
    },
    {
      "cell_type": "markdown",
      "metadata": {
        "id": "J9tpl6r63lup",
        "colab_type": "text"
      },
      "source": [
        "# Intro to Python\n",
        "---\n",
        "Python is a general purpose, high-level programming language. Created by Guido Van Russom in 1991. Key features of Python are - 1. Code Readability and 2. Use of whitespaces instead of brackets (curly braces {}). \n",
        "\n",
        "# Python Versions \n",
        "---\n",
        "There are two major Python version that coexist, i.e 2.7 and 3.x. \n",
        "We will be following Python 3.x conventions and syntax. \n",
        "\n"
      ]
    },
    {
      "cell_type": "markdown",
      "metadata": {
        "id": "BWvynYGm4rjl",
        "colab_type": "text"
      },
      "source": [
        "# Our first Python Code \n",
        "---\n",
        "**Hello World** program is what we start with every language. The statement below prints \"Hello World\" to the standard output (STDOUT) of the machine. Here we are using a Jupyter Notebook so it shows the output to our screen. </br>\n",
        "\n",
        "**print()** is built in function in python which takes an input and prints it to the STDOUT. \n"
      ]
    },
    {
      "cell_type": "code",
      "metadata": {
        "id": "hI2Nng2O4kKK",
        "colab_type": "code",
        "colab": {
          "base_uri": "https://localhost:8080/",
          "height": 34
        },
        "outputId": "fc17d754-dbc7-4918-ec4e-384bfffda6c6"
      },
      "source": [
        "print('Hello World!')"
      ],
      "execution_count": 2,
      "outputs": [
        {
          "output_type": "stream",
          "text": [
            "Hello World!\n"
          ],
          "name": "stdout"
        }
      ]
    },
    {
      "cell_type": "code",
      "metadata": {
        "id": "S_rcGKVE5hNo",
        "colab_type": "code",
        "colab": {}
      },
      "source": [
        ""
      ],
      "execution_count": null,
      "outputs": []
    }
  ]
}