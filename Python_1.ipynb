{
  "nbformat": 4,
  "nbformat_minor": 0,
  "metadata": {
    "colab": {
      "name": "Python 1.ipynb",
      "provenance": [],
      "authorship_tag": "ABX9TyMgK48EHEhWeXltg7iSeyM6",
      "include_colab_link": true
    },
    "kernelspec": {
      "name": "python3",
      "display_name": "Python 3"
    }
  },
  "cells": [
    {
      "cell_type": "markdown",
      "metadata": {
        "id": "view-in-github",
        "colab_type": "text"
      },
      "source": [
        "<a href=\"https://colab.research.google.com/github/kudoabhijeet/LetsCodePython/blob/master/Python_1.ipynb\" target=\"_parent\"><img src=\"https://colab.research.google.com/assets/colab-badge.svg\" alt=\"Open In Colab\"/></a>"
      ]
    },
    {
      "cell_type": "markdown",
      "metadata": {
        "id": "IpEigOVdxkCq",
        "colab_type": "text"
      },
      "source": [
        "# Welcome to Getting Started with Python\n",
        "\n",
        "---\n",
        "\n",
        "\n",
        "## Contents covered in this notebook\n",
        "\n",
        "\n",
        "1.   Intro to Python\n",
        "2.   Python versions\n",
        "3.   Our first Python Code\n",
        "4.   What can Python do? \n",
        "\n",
        "\n",
        "## Resources \n",
        "<!-- To be added -->\n",
        "\n",
        "\n"
      ]
    }
  ]
}